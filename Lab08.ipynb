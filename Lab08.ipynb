{
 "cells": [
  {
   "cell_type": "code",
   "execution_count": 1,
   "metadata": {},
   "outputs": [
    {
     "name": "stdout",
     "output_type": "stream",
     "text": [
      "1. Push Item\n",
      "2. Pop Item\n",
      "3. Print Items in the stack\n",
      "4. Size of the stack\n",
      "5. Top item in the stack\n",
      "6. Check stack is empty\n",
      "7. Exit\n"
     ]
    },
    {
     "ename": "AttributeError",
     "evalue": "'Stack' object has no attribute 'items'",
     "output_type": "error",
     "traceback": [
      "\u001b[1;31m---------------------------------------------------------------------------\u001b[0m",
      "\u001b[1;31mAttributeError\u001b[0m                            Traceback (most recent call last)",
      "\u001b[1;32mc:\\ARUN M\\Python Codes\\MScDSB-MDS171-23122110-ARUN\\lab08.ipynb Cell 1\u001b[0m line \u001b[0;36m3\n\u001b[0;32m     <a href='vscode-notebook-cell:/c%3A/ARUN%20M/Python%20Codes/MScDSB-MDS171-23122110-ARUN/lab08.ipynb#W0sZmlsZQ%3D%3D?line=30'>31</a>\u001b[0m choice \u001b[39m=\u001b[39m \u001b[39mint\u001b[39m(\u001b[39minput\u001b[39m(\u001b[39m\"\u001b[39m\u001b[39mEnter your choice: \u001b[39m\u001b[39m\"\u001b[39m)\u001b[39m.\u001b[39mstrip())\n\u001b[0;32m     <a href='vscode-notebook-cell:/c%3A/ARUN%20M/Python%20Codes/MScDSB-MDS171-23122110-ARUN/lab08.ipynb#W0sZmlsZQ%3D%3D?line=31'>32</a>\u001b[0m \u001b[39mif\u001b[39;00m choice \u001b[39m==\u001b[39m \u001b[39m1\u001b[39m:\n\u001b[1;32m---> <a href='vscode-notebook-cell:/c%3A/ARUN%20M/Python%20Codes/MScDSB-MDS171-23122110-ARUN/lab08.ipynb#W0sZmlsZQ%3D%3D?line=32'>33</a>\u001b[0m     n\u001b[39m.\u001b[39;49mpush(\u001b[39minput\u001b[39;49m(\u001b[39m\"\u001b[39;49m\u001b[39mEnter the item to add: \u001b[39;49m\u001b[39m\"\u001b[39;49m))\n\u001b[0;32m     <a href='vscode-notebook-cell:/c%3A/ARUN%20M/Python%20Codes/MScDSB-MDS171-23122110-ARUN/lab08.ipynb#W0sZmlsZQ%3D%3D?line=33'>34</a>\u001b[0m \u001b[39melif\u001b[39;00m choice \u001b[39m==\u001b[39m \u001b[39m2\u001b[39m:\n\u001b[0;32m     <a href='vscode-notebook-cell:/c%3A/ARUN%20M/Python%20Codes/MScDSB-MDS171-23122110-ARUN/lab08.ipynb#W0sZmlsZQ%3D%3D?line=34'>35</a>\u001b[0m     n\u001b[39m.\u001b[39mpop(\u001b[39minput\u001b[39m(\u001b[39m\"\u001b[39m\u001b[39mEnter the item to be removed: \u001b[39m\u001b[39m\"\u001b[39m))\n",
      "\u001b[1;32mc:\\ARUN M\\Python Codes\\MScDSB-MDS171-23122110-ARUN\\lab08.ipynb Cell 1\u001b[0m line \u001b[0;36m5\n\u001b[0;32m      <a href='vscode-notebook-cell:/c%3A/ARUN%20M/Python%20Codes/MScDSB-MDS171-23122110-ARUN/lab08.ipynb#W0sZmlsZQ%3D%3D?line=3'>4</a>\u001b[0m \u001b[39mdef\u001b[39;00m \u001b[39mpush\u001b[39m(\u001b[39mself\u001b[39m, item):\n\u001b[1;32m----> <a href='vscode-notebook-cell:/c%3A/ARUN%20M/Python%20Codes/MScDSB-MDS171-23122110-ARUN/lab08.ipynb#W0sZmlsZQ%3D%3D?line=4'>5</a>\u001b[0m     \u001b[39mself\u001b[39;49m\u001b[39m.\u001b[39;49mitems\u001b[39m.\u001b[39mappend(item)\n\u001b[0;32m      <a href='vscode-notebook-cell:/c%3A/ARUN%20M/Python%20Codes/MScDSB-MDS171-23122110-ARUN/lab08.ipynb#W0sZmlsZQ%3D%3D?line=5'>6</a>\u001b[0m     \u001b[39mprint\u001b[39m(\u001b[39mself\u001b[39m\u001b[39m.\u001b[39mitems)\n",
      "\u001b[1;31mAttributeError\u001b[0m: 'Stack' object has no attribute 'items'"
     ]
    }
   ],
   "source": [
    "class Stack:\n",
    "    def _init_(self):\n",
    "        self.items = []\n",
    "    def push(self, item):\n",
    "        self.items.append(item)\n",
    "        print(self.items)\n",
    "    def pop(self, item):\n",
    "        self.items.pop(item)\n",
    "        print(self.items)  \n",
    "    def view (self):\n",
    "        print(self.items)\n",
    "    \n",
    "    def size (self):\n",
    "        print(len(self.items))\n",
    "    def top(self):\n",
    "        print(self.items[len(self.items)-1])\n",
    "    def check(self):\n",
    "        if len(self.items)==0:\n",
    "            print(\"Empty\")\n",
    "        else:\n",
    "            print(\"Not empty\")\n",
    "n = Stack()        \n",
    "while True:\n",
    "    print(\"1. Push Item\")\n",
    "    print(\"2. Pop Item\")\n",
    "    print(\"3. Print Items in the stack\")\n",
    "    print(\"4. Size of the stack\")\n",
    "    print(\"5. Top item in the stack\")\n",
    "    print(\"6. Check stack is empty\")\n",
    "    print(\"7. Exit\")   \n",
    "    choice = int(input(\"Enter your choice: \").strip())\n",
    "    if choice == 1:\n",
    "        n.push(input(\"Enter the item to add: \"))\n",
    "    elif choice == 2:\n",
    "        n.pop(input(\"Enter the item to be removed: \"))\n",
    "    elif choice == 3:\n",
    "        n.view() \n",
    "    elif choice == 4:\n",
    "        n.size()\n",
    "    elif choice == 5:\n",
    "         n.top()\n",
    "    elif choice == 6:\n",
    "         n.check()\n",
    "    elif choice ==7:\n",
    "        exit()"
   ]
  },
  {
   "cell_type": "code",
   "execution_count": 7,
   "metadata": {},
   "outputs": [
    {
     "name": "stdout",
     "output_type": "stream",
     "text": [
      "ArunMhbh6\n"
     ]
    }
   ],
   "source": [
    "x=\"Arun\"\n",
    "y=\"M\"\"h\"\"b\"\"h\"'6'\n",
    "z=x+y\n",
    "print(z) "
   ]
  }
 ],
 "metadata": {
  "kernelspec": {
   "display_name": "Python 3",
   "language": "python",
   "name": "python3"
  },
  "language_info": {
   "codemirror_mode": {
    "name": "ipython",
    "version": 3
   },
   "file_extension": ".py",
   "mimetype": "text/x-python",
   "name": "python",
   "nbconvert_exporter": "python",
   "pygments_lexer": "ipython3",
   "version": "3.10.11"
  },
  "orig_nbformat": 4
 },
 "nbformat": 4,
 "nbformat_minor": 2
}
