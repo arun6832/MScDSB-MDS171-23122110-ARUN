{
 "cells": [
  {
   "cell_type": "code",
   "execution_count": 1,
   "metadata": {},
   "outputs": [
    {
     "name": "stdout",
     "output_type": "stream",
     "text": [
      "Output: TwoFive\n"
     ]
    }
   ],
   "source": [
    "def convert_to_alice_format(number):\n",
    "    digit_words = [\"Zero\", \"One\", \"Two\", \"Three\", \"Four\", \"Five\", \"Six\", \"Seven\", \"Eight\", \"Nine\"]\n",
    "    \n",
    "    if isinstance(number, int):\n",
    "        alice_format = ''.join(digit_words[int(digit)] for digit in str(number))\n",
    "        return alice_format\n",
    "    else:\n",
    "        return \"Invalid input. Please enter an integer.\"\n",
    "\n",
    "number = int(input(\"Enter a number: \"))\n",
    "print(\"Output:\", convert_to_alice_format(number))\n"
   ]
  }
 ],
 "metadata": {
  "kernelspec": {
   "display_name": "Python 3",
   "language": "python",
   "name": "python3"
  },
  "language_info": {
   "codemirror_mode": {
    "name": "ipython",
    "version": 3
   },
   "file_extension": ".py",
   "mimetype": "text/x-python",
   "name": "python",
   "nbconvert_exporter": "python",
   "pygments_lexer": "ipython3",
   "version": "3.10.11"
  },
  "orig_nbformat": 4
 },
 "nbformat": 4,
 "nbformat_minor": 2
}
