{
 "cells": [
  {
   "cell_type": "code",
   "execution_count": 1,
   "metadata": {},
   "outputs": [
    {
     "name": "stdout",
     "output_type": "stream",
     "text": [
      "5\n",
      "The No. of Vowels present in the word 1\n",
      "\n",
      "Vowel Counts :\n",
      "\n",
      " Vowel :  a\n",
      "\n",
      " Count :  2\n",
      "20.0\n",
      "20.0\n",
      "20.0\n",
      "20.0\n",
      "20.0\n"
     ]
    }
   ],
   "source": [
    "def full_vowels(string):\n",
    "    vowels=\"aeiou\"\n",
    "    counts=0\n",
    "    count_vowels=counts+1\n",
    "    return count_vowels\n",
    "def org_vowels():\n",
    "    n=str(input(\"Enter the Word :\"))\n",
    "    total_char=len(n)\n",
    "    print(total_char)\n",
    "    count_vowels=full_vowels(n)\n",
    "    print(\"The No. of Vowels present in the word\",count_vowels)\n",
    "    if count_vowels>0:\n",
    "        print(\"\\nVowel Counts :\")\n",
    "        for vowel in \"aeiou\":\n",
    "            count=n.count(vowel)\n",
    "            if count>0:\n",
    "                print(\"\\n Vowel : \",vowel)\n",
    "                print(\"\\n Count : \",count)\n",
    "            percentage = (count_vowels/total_char)*100\n",
    "            print(percentage)\n",
    "org_vowels()\n",
    "\n",
    "\n",
    "\n",
    "\n",
    "\n",
    "    \n"
   ]
  },
  {
   "cell_type": "code",
   "execution_count": 4,
   "metadata": {},
   "outputs": [
    {
     "name": "stdout",
     "output_type": "stream",
     "text": [
      "TOTAL CHAR : 9\n",
      "The number of vowels in the string is: 2\n",
      "The percentage of vowels in the string is: 22.22%\n"
     ]
    }
   ],
   "source": [
    "def count_vowels(string):  #define a function to find the vowel count\n",
    "    vowels = \"aeiou\"\n",
    "    vowel_count = 0  \n",
    "    for char in string:\n",
    "        if char in vowels:\n",
    "            vowel_count += 1\n",
    "    return vowel_count\n",
    "def main(): #recieve a user input \n",
    "    string = input(\"Enter a string: \")\n",
    "    vowel_count = count_vowels(string)\n",
    "    \n",
    "    total_chars = len(string)\n",
    "    print(\"TOTAL CHAR :\",total_chars)\n",
    "    percentage = (vowel_count / total_chars) * 100\n",
    "    \n",
    "    print(\"The number of vowels in the string is:\", vowel_count)\n",
    "    print(\"The percentage of vowels in the string is: {:.2f}%\".format(percentage))\n",
    "main()\n"
   ]
  },
  {
   "cell_type": "code",
   "execution_count": null,
   "metadata": {},
   "outputs": [],
   "source": []
  }
 ],
 "metadata": {
  "kernelspec": {
   "display_name": "Python 3",
   "language": "python",
   "name": "python3"
  },
  "language_info": {
   "codemirror_mode": {
    "name": "ipython",
    "version": 3
   },
   "file_extension": ".py",
   "mimetype": "text/x-python",
   "name": "python",
   "nbconvert_exporter": "python",
   "pygments_lexer": "ipython3",
   "version": "3.10.11"
  },
  "orig_nbformat": 4
 },
 "nbformat": 4,
 "nbformat_minor": 2
}
