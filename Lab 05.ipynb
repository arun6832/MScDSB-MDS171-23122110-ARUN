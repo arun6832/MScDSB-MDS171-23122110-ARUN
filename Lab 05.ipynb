{
 "cells": [
  {
   "cell_type": "code",
   "execution_count": 21,
   "metadata": {},
   "outputs": [
    {
     "name": "stdout",
     "output_type": "stream",
     "text": [
      "4\n",
      "The No. of Vowels present in the word 1\n",
      "\n",
      "Vowel Counts :\n",
      "\n",
      " Vowel :  a\n",
      "\n",
      " Count :  1\n",
      "25.0\n",
      "25.0\n",
      "25.0\n",
      "25.0\n",
      "\n",
      " Vowel :  u\n",
      "\n",
      " Count :  1\n",
      "25.0\n"
     ]
    }
   ],
   "source": [
    "def full_vowels(string):\n",
    "    vowels=\"aeiou\"\n",
    "    counts=0\n",
    "    count_vowels=counts+1\n",
    "    return count_vowels\n",
    "def org_vowels():\n",
    "    n=str(input(\"Enter the Word :\"))\n",
    "    total_char=len(n)\n",
    "    print(total_char)\n",
    "    count_vowels=full_vowels(n)\n",
    "    print(\"The No. of Vowels present in the word\",count_vowels)\n",
    "    if count_vowels>0:\n",
    "        print(\"\\nVowel Counts :\")\n",
    "        for vowel in \"aeiou\":\n",
    "            count=n.count(vowel)\n",
    "            if count>0:\n",
    "                print(\"\\n Vowel : \",vowel)\n",
    "                print(\"\\n Count : \",count)\n",
    "            percentage = (count_vowels/total_char)*100\n",
    "            print(percentage)\n",
    "org_vowels()\n",
    "\n",
    "\n",
    "\n",
    "\n",
    "\n",
    "    \n"
   ]
  },
  {
   "cell_type": "code",
   "execution_count": null,
   "metadata": {},
   "outputs": [],
   "source": []
  },
  {
   "cell_type": "code",
   "execution_count": null,
   "metadata": {},
   "outputs": [],
   "source": []
  }
 ],
 "metadata": {
  "kernelspec": {
   "display_name": "Python 3",
   "language": "python",
   "name": "python3"
  },
  "language_info": {
   "codemirror_mode": {
    "name": "ipython",
    "version": 3
   },
   "file_extension": ".py",
   "mimetype": "text/x-python",
   "name": "python",
   "nbconvert_exporter": "python",
   "pygments_lexer": "ipython3",
   "version": "3.10.11"
  },
  "orig_nbformat": 4
 },
 "nbformat": 4,
 "nbformat_minor": 2
}
