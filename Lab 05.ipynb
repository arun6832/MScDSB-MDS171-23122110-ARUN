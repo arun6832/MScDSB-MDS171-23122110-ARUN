{
 "cells": [
  {
   "cell_type": "code",
   "execution_count": 14,
   "metadata": {},
   "outputs": [
    {
     "name": "stdout",
     "output_type": "stream",
     "text": [
      "Total Char 27\n",
      "The number of vowels in the string : 27\n",
      "The percentage of the vowels present in the string : 100.00%\n"
     ]
    }
   ],
   "source": [
    "def count_vowel (string): #defined\n",
    "    vowels=\"aeiou\"\n",
    "    count=0\n",
    "    for char in string:\n",
    "        if char in vowels:\n",
    "            count +=1\n",
    "    return count\n",
    "def main():\n",
    "    string=input(\"Enter the Word :\")\n",
    "    count=count_vowel(string)\n",
    "    \n",
    "    total_char=len(string)\n",
    "    print(\"Total Char\",total_char)\n",
    "    percentage = (count/total_char)\n",
    "    print(\"The number of vowels in the string :\",count)\n",
    "    print(\"The percentage of the vowels present in the string : {:.2%}\".format(percentage))\n",
    "main()\n",
    "\n",
    "\n",
    "\n",
    "\n",
    "\n",
    "    "
   ]
  }
 ],
 "metadata": {
  "kernelspec": {
   "display_name": "Python 3",
   "language": "python",
   "name": "python3"
  },
  "language_info": {
   "codemirror_mode": {
    "name": "ipython",
    "version": 3
   },
   "file_extension": ".py",
   "mimetype": "text/x-python",
   "name": "python",
   "nbconvert_exporter": "python",
   "pygments_lexer": "ipython3",
   "version": "3.10.11"
  },
  "orig_nbformat": 4
 },
 "nbformat": 4,
 "nbformat_minor": 2
}
