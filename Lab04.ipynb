{
 "cells": [
  {
   "cell_type": "code",
   "execution_count": 6,
   "metadata": {},
   "outputs": [
    {
     "name": "stdout",
     "output_type": "stream",
     "text": [
      "Name :  Arun\n",
      "Date :  29-03-2023\n",
      "Item :  Biriyani\n",
      "Rate :  250\n",
      "qty :  4\n",
      "Guestcount :  2\n",
      "Rate :  1000\n"
     ]
    }
   ],
   "source": [
    "def GSMS(name,date,item,rate,qty,guestcount):\n",
    "    file = open(\"GSMS.txt\", \"r+\")\n",
    "    file.write(\"\\nName = \"+name)\n",
    "    file.write(\"\\nDate = \"+date)\n",
    "    file.write(\"\\nItem Code = \"+item)\n",
    "    file.write(\"\\nQuantity = \"+str(qty))\n",
    "    file.write(\"\\nRate = \"+str(rate))\n",
    "    file.close()\n",
    "    #return name , date , item , rate , qty , guestcount\n",
    "name = input(\"Enter the Name here: \")\n",
    "date = input(\"Enter the date: \")\n",
    "item = input(\"Enter the item here: \")\n",
    "init_rate = int(input(\"Enter the rate of the item: \"))\n",
    "qty = int(input(\"Enter the quantity of the item\"))\n",
    "guestcount = int(input(\"Enter the Guest Count: \"))\n",
    "rate=str(init_rate*qty)\n",
    "print(\"Name : \",name)\n",
    "print(\"Date : \",date)\n",
    "print(\"Item : \",item)\n",
    "print(\"Rate : \",init_rate)\n",
    "print(\"qty : \",qty)\n",
    "print(\"Guestcount : \",guestcount)\n",
    "print(\"Rate : \",rate)"
   ]
  },
  {
   "cell_type": "code",
   "execution_count": null,
   "metadata": {},
   "outputs": [],
   "source": []
  }
 ],
 "metadata": {
  "kernelspec": {
   "display_name": "Python 3",
   "language": "python",
   "name": "python3"
  },
  "language_info": {
   "codemirror_mode": {
    "name": "ipython",
    "version": 3
   },
   "file_extension": ".py",
   "mimetype": "text/x-python",
   "name": "python",
   "nbconvert_exporter": "python",
   "pygments_lexer": "ipython3",
   "version": "3.10.11"
  },
  "orig_nbformat": 4
 },
 "nbformat": 4,
 "nbformat_minor": 2
}
