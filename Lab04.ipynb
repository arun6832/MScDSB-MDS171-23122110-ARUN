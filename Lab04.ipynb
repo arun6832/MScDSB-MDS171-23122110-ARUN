{
 "cells": [
  {
   "cell_type": "code",
   "execution_count": 6,
   "metadata": {},
   "outputs": [
    {
     "ename": "TypeError",
     "evalue": "GSMS() missing 1 required positional argument: 'guestcount'",
     "output_type": "error",
     "traceback": [
      "\u001b[1;31m---------------------------------------------------------------------------\u001b[0m",
      "\u001b[1;31mTypeError\u001b[0m                                 Traceback (most recent call last)",
      "Cell \u001b[1;32mIn[6], line 17\u001b[0m\n\u001b[0;32m     15\u001b[0m guestcount \u001b[39m=\u001b[39m \u001b[39mint\u001b[39m(\u001b[39minput\u001b[39m(\u001b[39m\"\u001b[39m\u001b[39mEnter the Guest Count: \u001b[39m\u001b[39m\"\u001b[39m))\n\u001b[0;32m     16\u001b[0m rate\u001b[39m=\u001b[39m\u001b[39mstr\u001b[39m(init_rate\u001b[39m*\u001b[39mqty)\n\u001b[1;32m---> 17\u001b[0m GSMS(name,date,item,rate,guestcount)\n",
      "\u001b[1;31mTypeError\u001b[0m: GSMS() missing 1 required positional argument: 'guestcount'"
     ]
    }
   ],
   "source": [
    "def GSMS(name , date , item , rate , qty , guestcount):\n",
    "    file = open(\"GSMS.txt\", \"r+\")\n",
    "    file.write(\"\\nName = \"+name)\n",
    "    file.write(\"\\nDate = \"+date)\n",
    "    file.write(\"\\nItem Code = \"+item)\n",
    "    file.write(\"\\nQuantity = \"+str(qty))\n",
    "    file.write(\"\\nRate = \"+str(rate))\n",
    "    file.close()\n",
    "    return True\n",
    "name = input(\"Enter the Name here: \")\n",
    "date = input(\"Enter the date: \")\n",
    "item = input(\"Enter the item here: \")\n",
    "init_rate = int(input(\"Enter the rate of the item: \"))\n",
    "qty = int(input(\"Enter the quantity of the item\"))\n",
    "guestcount = int(input(\"Enter the Guest Count: \"))\n",
    "rate=str(init_rate*qty)\n",
    "GSMS(name,date,item,rate,guestcount)\n"
   ]
  }
 ],
 "metadata": {
  "kernelspec": {
   "display_name": "Python 3",
   "language": "python",
   "name": "python3"
  },
  "language_info": {
   "codemirror_mode": {
    "name": "ipython",
    "version": 3
   },
   "file_extension": ".py",
   "mimetype": "text/x-python",
   "name": "python",
   "nbconvert_exporter": "python",
   "pygments_lexer": "ipython3",
   "version": "3.10.11"
  },
  "orig_nbformat": 4
 },
 "nbformat": 4,
 "nbformat_minor": 2
}
