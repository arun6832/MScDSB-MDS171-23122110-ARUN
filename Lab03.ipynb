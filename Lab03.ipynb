{
 "cells": [
  {
   "cell_type": "code",
   "execution_count": 5,
   "metadata": {},
   "outputs": [
    {
     "name": "stdout",
     "output_type": "stream",
     "text": [
      "The mean of the List 542.94\n",
      "Maximum 999\n",
      "Minimum 17\n",
      "Range 982\n"
     ]
    }
   ],
   "source": [
    "#Finding The Descriptive statistics using functions\n",
    "lst=[761, 123, 585, 275, 194, 840, 999, 622, 763, 40, 825, 687, 402, 338, 611, 987, 739, 95, 819, 568, 320, 126, 688, 948, 514, 223, 751, 379, 857, 767, 492, 162, 437, 934, 430, 343, 725, 511, 580, 678, 708, 823, 346, 179, 786, 663, 195, 890, 267, 502, 214, 300, 786, 961, 235, 559, 992, 919, 948, 318, 57, 787, 653, 317, 305, 172, 966, 182, 970, 17, 89, 624, 629, 595, 485, 752, 984, 978, 460, 124, 321, 256, 614, 852, 811, 561, 127, 207, 406, 615, 888, 391, 691, 470, 911, 401, 137, 600, 478, 682]\n",
    "#a=len(lst)\n",
    "#print(\"Length of the List\",a)\n",
    "def mean(lst):\n",
    "    s=0\n",
    "    c=0\n",
    "    for i in lst: #finding sum of every elements in the list using iteration\n",
    "        s=s+i\n",
    "        c += 1\n",
    "    return s/c\n",
    "b=mean(lst)\n",
    "#c=sum(lst)\n",
    "#print(\"Sum of the list\",c)\n",
    "print(\"The mean of the List\",b) #mean = total / no. of elements\n",
    "def Maximum(lst):\n",
    "    Max1=lst[0] #setting the inital value of list as maximum\n",
    "    for i in lst: \n",
    "        if i > Max1: #if item is in i checking all elements in list\n",
    "            Max1 = i\n",
    "    return Max1\n",
    "d=Maximum(lst)\n",
    "print(\"Maximum\",d)\n",
    "def Minimum(lst):\n",
    "    Mini1=lst[0] #setting the inital value of list as minimum\n",
    "    for i in lst:\n",
    "        if i < Mini1: #if item is in i checking all elements in list\n",
    "            Mini1 = i\n",
    "    return Mini1\n",
    "e=Minimum(lst)\n",
    "print(\"Minimum\",e)\n",
    "def range_List(lst):\n",
    "    return (max(lst)-min(lst))  #range= maximum - minimum\n",
    "f=range_List(lst)\n",
    "print(\"Range\",f)\n",
    "\n",
    "+\n",
    "\n",
    "\n",
    "\n"
   ]
  },
  {
   "cell_type": "code",
   "execution_count": 12,
   "metadata": {},
   "outputs": [
    {
     "name": "stdout",
     "output_type": "stream",
     "text": [
      "Mean 542.94\n",
      "Max 999\n",
      "Min 17\n",
      "Range 982\n"
     ]
    }
   ],
   "source": [
    "#Finding Descriptive Statistics using Bulit-In Function\"\n",
    "lst=[761, 123, 585, 275, 194, 840, 999, 622, 763, 40, 825, 687, 402, 338, 611, 987, 739, 95, 819, 568, 320, 126, 688, 948, 514, 223, 751, 379, 857, 767, 492, 162, 437, 934, 430, 343, 725, 511, 580, 678, 708, 823, 346, 179, 786, 663, 195, 890, 267, 502, 214, 300, 786, 961, 235, 559, 992, 919, 948, 318, 57, 787, 653, 317, 305, 172, 966, 182, 970, 17, 89, 624, 629, 595, 485, 752, 984, 978, 460, 124, 321, 256, 614, 852, 811, 561, 127, 207, 406, 615, 888, 391, 691, 470, 911, 401, 137, 600, 478, 682]\n",
    "len(lst)\n",
    "a=sum(lst)/len(lst)\n",
    "print(\"Mean\",a)\n",
    "b=max(lst)\n",
    "c=min(lst)\n",
    "d=b-c\n",
    "print(\"Max\",b)\n",
    "print(\"Min\",c)\n",
    "print(\"Range\",d)\n"
   ]
  },
  {
   "cell_type": "code",
   "execution_count": null,
   "metadata": {},
   "outputs": [],
   "source": []
  }
 ],
 "metadata": {
  "kernelspec": {
   "display_name": "Python 3",
   "language": "python",
   "name": "python3"
  },
  "language_info": {
   "codemirror_mode": {
    "name": "ipython",
    "version": 3
   },
   "file_extension": ".py",
   "mimetype": "text/x-python",
   "name": "python",
   "nbconvert_exporter": "python",
   "pygments_lexer": "ipython3",
   "version": "3.10.11"
  },
  "orig_nbformat": 4
 },
 "nbformat": 4,
 "nbformat_minor": 2
}
