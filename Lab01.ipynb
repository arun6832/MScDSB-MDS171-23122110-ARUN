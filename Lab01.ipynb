{
 "cells": [
  {
   "cell_type": "code",
   "execution_count": 4,
   "metadata": {},
   "outputs": [
    {
     "name": "stdout",
     "output_type": "stream",
     "text": [
      "Arun\n",
      "Arun\n",
      "Arun\n",
      "Arun\n",
      "Arun\n"
     ]
    }
   ],
   "source": [
    "name=str(input(\"Enter the Name\"))\n",
    "n=int(input())\n",
    "for n in range (1, n+1):\n",
    "    print(name)\n"
   ]
  },
  {
   "cell_type": "code",
   "execution_count": 5,
   "metadata": {},
   "outputs": [
    {
     "name": "stdout",
     "output_type": "stream",
     "text": [
      "10101010101010101010\n"
     ]
    }
   ],
   "source": [
    "name=str(input(\"Enter the Name\"))\n",
    "n=int(input())\n",
    "OUTPUT=name*n\n",
    "print(OUTPUT,)"
   ]
  }
 ],
 "metadata": {
  "kernelspec": {
   "display_name": "Python 3",
   "language": "python",
   "name": "python3"
  },
  "language_info": {
   "codemirror_mode": {
    "name": "ipython",
    "version": 3
   },
   "file_extension": ".py",
   "mimetype": "text/x-python",
   "name": "python",
   "nbconvert_exporter": "python",
   "pygments_lexer": "ipython3",
   "version": "3.10.11"
  },
  "orig_nbformat": 4
 },
 "nbformat": 4,
 "nbformat_minor": 2
}
