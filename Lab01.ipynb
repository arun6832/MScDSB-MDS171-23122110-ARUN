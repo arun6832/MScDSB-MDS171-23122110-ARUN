{
 "cells": [
  {
   "cell_type": "code",
   "execution_count": 4,
   "metadata": {},
   "outputs": [
    {
     "name": "stdout",
     "output_type": "stream",
     "text": [
      "Arun\n",
      "Arun\n",
      "Arun\n",
      "Arun\n",
      "Arun\n",
      "Arun\n",
      "Arun\n"
     ]
    }
   ],
   "source": [
    "name=str(input(\"Enter the Name\")) #user input\n",
    "n=int(input())                                           \n",
    "for n in range (1, n+1): #creating a loop for n range\n",
    "    print(name)\n"
   ]
  },
  {
   "cell_type": "code",
   "execution_count": 3,
   "metadata": {},
   "outputs": [
    {
     "name": "stdout",
     "output_type": "stream",
     "text": [
      "Arun\n",
      "Arun\n",
      "Arun\n",
      "\n"
     ]
    }
   ],
   "source": [
    "name=str(input(\"Enter the Name\"))\n",
    "n=int(input())\n",
    "Output=(name+\"\\n\")*n\n",
    "print(Output)\n"
   ]
  },
  {
   "cell_type": "code",
   "execution_count": 1,
   "metadata": {},
   "outputs": [],
   "source": []
  },
  {
   "cell_type": "code",
   "execution_count": null,
   "metadata": {},
   "outputs": [],
   "source": []
  }
 ],
 "metadata": {
  "kernelspec": {
   "display_name": "Python 3",
   "language": "python",
   "name": "python3"
  },
  "language_info": {
   "codemirror_mode": {
    "name": "ipython",
    "version": 3
   },
   "file_extension": ".py",
   "mimetype": "text/x-python",
   "name": "python",
   "nbconvert_exporter": "python",
   "pygments_lexer": "ipython3",
   "version": "3.10.11"
  },
  "orig_nbformat": 4
 },
 "nbformat": 4,
 "nbformat_minor": 2
}
