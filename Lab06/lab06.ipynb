{
 "cells": [
  {
   "cell_type": "code",
   "execution_count": 9,
   "metadata": {},
   "outputs": [],
   "source": [
    "import random\n",
    "item=[\"Rice\",\"Tomato\",\"Onion\",\"Oil\",\"soap\",\"carrot\",\"apple\",\"orange\",\"toothpaste\",\"waterbottle\"]\n",
    "quantity=[\"3\",\"5\",\"2\",\"1\",\"8\",\"7\",\"3\",\"5\",\"1\",\"5\"]\n",
    "price=[\"50\",\"30\",\"45\",\"60\",\"20\",\"25\",\"65\",\"60\",\"25\",\"55\"]\n",
    "file=open(\"23122110.csv\",\"w+\")\n",
    "\n",
    "for i in range(100):\n",
    "    r1=random.randint(0,9)\n",
    "    r2=random.randint(0,9)\n",
    "    r3=random.randint(0,9)\n",
    "    qty=int(quantity[r2])\n",
    "    prc=int(price[r3])\n",
    "    total_sum=qty*prc\n",
    "    file.write(item[r1]+\",\"+quantity[r2]+\",\"+price[r3]+\"\\t Total = \"+str(total_sum)+\"\\n\")\n",
    "    #file.write(str(r2))\n",
    "    #file.write(str(r3))\n",
    "file.close()"
   ]
  },
  {
   "cell_type": "code",
   "execution_count": null,
   "metadata": {},
   "outputs": [],
   "source": []
  }
 ],
 "metadata": {
  "kernelspec": {
   "display_name": "Python 3",
   "language": "python",
   "name": "python3"
  },
  "language_info": {
   "codemirror_mode": {
    "name": "ipython",
    "version": 3
   },
   "file_extension": ".py",
   "mimetype": "text/x-python",
   "name": "python",
   "nbconvert_exporter": "python",
   "pygments_lexer": "ipython3",
   "version": "3.10.11"
  },
  "orig_nbformat": 4
 },
 "nbformat": 4,
 "nbformat_minor": 2
}
