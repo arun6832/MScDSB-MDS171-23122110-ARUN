{
 "cells": [
  {
   "cell_type": "code",
   "execution_count": 17,
   "metadata": {},
   "outputs": [
    {
     "name": "stdout",
     "output_type": "stream",
     "text": [
      "MENU OPTIONS\n",
      "******************************\n",
      "1.Teacher Login\n",
      "2.Student Login\n",
      "3.Exit\n",
      "1.Update Marks\n",
      "2.Search Student\n",
      "3.Exit\n",
      "{'Name': 'Arun', 'Reg No': 23122110, 'SUB 1': 23, 'SUB 2': 33, 'SUB 3': 44, 'SUB 4': 55, 'Total Marks': 155, 23122110: <bound method student.det of <__main__.student object at 0x0000021232E67A90>>}\n",
      "1.Update Marks\n",
      "2.Search Student\n",
      "3.Exit\n"
     ]
    },
    {
     "ename": "ValueError",
     "evalue": "invalid literal for int() with base 10: ''",
     "output_type": "error",
     "traceback": [
      "\u001b[1;31m---------------------------------------------------------------------------\u001b[0m",
      "\u001b[1;31mValueError\u001b[0m                                Traceback (most recent call last)",
      "\u001b[1;32mc:\\ARUN M\\Python Codes\\MScDSB-MDS171-23122110-ARUN\\Lab 10.ipynb Cell 1\u001b[0m line \u001b[0;36m4\n\u001b[0;32m     <a href='vscode-notebook-cell:/c%3A/ARUN%20M/Python%20Codes/MScDSB-MDS171-23122110-ARUN/Lab%2010.ipynb#W0sZmlsZQ%3D%3D?line=41'>42</a>\u001b[0m \u001b[39mif\u001b[39;00m choice\u001b[39m==\u001b[39m\u001b[39m\"\u001b[39m\u001b[39m1\u001b[39m\u001b[39m\"\u001b[39m:\n\u001b[0;32m     <a href='vscode-notebook-cell:/c%3A/ARUN%20M/Python%20Codes/MScDSB-MDS171-23122110-ARUN/Lab%2010.ipynb#W0sZmlsZQ%3D%3D?line=42'>43</a>\u001b[0m     name\u001b[39m=\u001b[39m\u001b[39minput\u001b[39m(\u001b[39m\"\u001b[39m\u001b[39mEnter your name\u001b[39m\u001b[39m\"\u001b[39m)\n\u001b[1;32m---> <a href='vscode-notebook-cell:/c%3A/ARUN%20M/Python%20Codes/MScDSB-MDS171-23122110-ARUN/Lab%2010.ipynb#W0sZmlsZQ%3D%3D?line=43'>44</a>\u001b[0m     reg_no\u001b[39m=\u001b[39m\u001b[39mint\u001b[39;49m(\u001b[39minput\u001b[39;49m(\u001b[39m\"\u001b[39;49m\u001b[39mEnter your Register NO.\u001b[39;49m\u001b[39m\"\u001b[39;49m))\n\u001b[0;32m     <a href='vscode-notebook-cell:/c%3A/ARUN%20M/Python%20Codes/MScDSB-MDS171-23122110-ARUN/Lab%2010.ipynb#W0sZmlsZQ%3D%3D?line=44'>45</a>\u001b[0m     sub1\u001b[39m=\u001b[39m\u001b[39mint\u001b[39m(\u001b[39minput\u001b[39m(\u001b[39m\"\u001b[39m\u001b[39mEnter Subject 1 Marks\u001b[39m\u001b[39m\"\u001b[39m))\n\u001b[0;32m     <a href='vscode-notebook-cell:/c%3A/ARUN%20M/Python%20Codes/MScDSB-MDS171-23122110-ARUN/Lab%2010.ipynb#W0sZmlsZQ%3D%3D?line=45'>46</a>\u001b[0m     sub2\u001b[39m=\u001b[39m\u001b[39mint\u001b[39m(\u001b[39minput\u001b[39m(\u001b[39m\"\u001b[39m\u001b[39mEnter Subject 2 Marks\u001b[39m\u001b[39m\"\u001b[39m))\n",
      "\u001b[1;31mValueError\u001b[0m: invalid literal for int() with base 10: ''"
     ]
    }
   ],
   "source": [
    "class student:\n",
    "    def __init__(self):\n",
    "        self.details={}\n",
    "    def det(self,name,reg_no,sub1,sub2,sub3,sub4):\n",
    "        total_marks=sub1+sub2+sub3+sub4\n",
    "        self.stu={\n",
    "            \"Name\" : name,\n",
    "            \"Reg No\" : reg_no,\n",
    "            \"SUB 1\" : sub1,\n",
    "            \"SUB 2\" : sub2,\n",
    "            \"SUB 3\" : sub3,\n",
    "            \"SUB 4\" : sub4,\n",
    "            \"Total Marks\" : total_marks\n",
    "        } \n",
    "        self.stu[reg_no]=self.det\n",
    "        print(self.stu)\n",
    "        #return reg_no\n",
    "    def search(self,Reg):\n",
    "        for key in self.stu.keys():\n",
    "            flag=True\n",
    "            if Reg==key:\n",
    "                print(self.stu[key])\n",
    "                exit()\n",
    "            else:\n",
    "                flag== \"False\"\n",
    "        if flag==\"False\":\n",
    "            print(\"Student not found\")\n",
    "obj=student()\n",
    "while True:\n",
    "    print(\"MENU OPTIONS\")\n",
    "    print(\"*\"*30)\n",
    "    print(\"1.Teacher Login\")\n",
    "    print(\"2.Student Login\")\n",
    "    print(\"3.Exit\")\n",
    "    choice=input((\"Enter your Choice\"))\n",
    "    if choice==\"1\":\n",
    "        while True:\n",
    "            print(\"1.Update Marks\")\n",
    "            print(\"2.Search Student\")\n",
    "            print(\"3.Exit\")\n",
    "            choice1=input(\"Enter your new choice\")\n",
    "            if choice==\"1\":\n",
    "                name=input(\"Enter your name\")\n",
    "                reg_no=int(input(\"Enter your Register NO.\"))\n",
    "                sub1=int(input(\"Enter Subject 1 Marks\"))\n",
    "                sub2=int(input(\"Enter Subject 2 Marks\"))\n",
    "                sub3=int(input(\"Enter Subject 3 Marks\"))\n",
    "                sub4=int(input(\"Enter Subject 4 Marks\"))\n",
    "                obj.det(name,reg_no,sub1,sub2,sub3,sub4)            \n",
    "            elif choice==\"2\":\n",
    "                Reg=input(\"Enter the name to be searched :\")\n",
    "                obj.search(Reg)\n",
    "            elif choice==\"3\":\n",
    "                exit() \n",
    "    if choice==\"2\":\n",
    "        Reg=input(\"Enter the Name to be searched :\")\n",
    "        obj.search(Reg)\n",
    "    if choice==\"3\":\n",
    "        exit()\n",
    "    break                \n",
    "\n",
    "                "
   ]
  },
  {
   "cell_type": "code",
   "execution_count": null,
   "metadata": {},
   "outputs": [],
   "source": []
  },
  {
   "cell_type": "code",
   "execution_count": null,
   "metadata": {},
   "outputs": [],
   "source": []
  }
 ],
 "metadata": {
  "kernelspec": {
   "display_name": "Python 3",
   "language": "python",
   "name": "python3"
  },
  "language_info": {
   "codemirror_mode": {
    "name": "ipython",
    "version": 3
   },
   "file_extension": ".py",
   "mimetype": "text/x-python",
   "name": "python",
   "nbconvert_exporter": "python",
   "pygments_lexer": "ipython3",
   "version": "3.10.11"
  }
 },
 "nbformat": 4,
 "nbformat_minor": 2
}
